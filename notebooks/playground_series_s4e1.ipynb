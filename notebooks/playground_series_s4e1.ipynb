{
 "cells": [
  {
   "cell_type": "code",
   "execution_count": 1,
   "id": "bb04a9b4-d965-4dc8-8e3a-98ff4e5603c2",
   "metadata": {},
   "outputs": [],
   "source": [
    "import pandas as pd\n",
    "import numpy as np\n",
    "import os\n",
    "\n",
    "import matplotlib.pyplot as plt\n",
    "import seaborn as sns\n",
    "\n",
    "from sklearn.preprocessing import StandardScaler, MinMaxScaler\n",
    "from sklearn.model_selection import cross_val_score, StratifiedKFold\n",
    "\n",
    "from sklearn.linear_model import LogisticRegression\n",
    "from catboost import CatBoostClassifier\n",
    "from xgboost import XGBClassifier\n",
    "from lightgbm import LGBMClassifier"
   ]
  },
  {
   "cell_type": "markdown",
   "id": "063a6f06-3d4d-4c21-9723-3aebaab806ca",
   "metadata": {},
   "source": [
    "# Load the data"
   ]
  },
  {
   "cell_type": "code",
   "execution_count": 2,
   "id": "e66b01dd-3614-4080-a2c6-5b76c4eecd8c",
   "metadata": {},
   "outputs": [
    {
     "data": {
      "text/plain": [
       "['.DS_Store',\n",
       " 'test.csv',\n",
       " 'Churn_Modelling.csv',\n",
       " 'train.csv',\n",
       " 'sample_submission.csv']"
      ]
     },
     "execution_count": 2,
     "metadata": {},
     "output_type": "execute_result"
    }
   ],
   "source": [
    "os.listdir('../data/playground_series_s4e1')"
   ]
  },
  {
   "cell_type": "code",
   "execution_count": 3,
   "id": "bd3f70eb-5c5b-430f-9d97-afc6dfdbbfe5",
   "metadata": {},
   "outputs": [],
   "source": [
    "test_url = os.path.join('../data/playground_series_s4e1', \n",
    "                        'test.csv')\n",
    "train_url = os.path.join('../data/playground_series_s4e1', \n",
    "                         'train.csv')\n",
    "origin_url = os.path.join('../data/playground_series_s4e1', \n",
    "                          'Churn_Modelling.csv')"
   ]
  },
  {
   "cell_type": "code",
   "execution_count": 4,
   "id": "30820a26-3045-44c8-b759-2dedf5c07f77",
   "metadata": {},
   "outputs": [],
   "source": [
    "train_df = pd.read_csv(train_url)\n",
    "test_df = pd.read_csv(test_url)\n",
    "origin_df = pd.read_csv(origin_url)"
   ]
  },
  {
   "cell_type": "code",
   "execution_count": 5,
   "id": "66846f75-88d9-4ee2-bf56-2345db280564",
   "metadata": {},
   "outputs": [
    {
     "data": {
      "text/plain": [
       "((165034, 14), (110023, 13), (10002, 14))"
      ]
     },
     "execution_count": 5,
     "metadata": {},
     "output_type": "execute_result"
    }
   ],
   "source": [
    "train_df.shape, test_df.shape, origin_df.shape"
   ]
  },
  {
   "cell_type": "markdown",
   "id": "41282e30-cf86-4eb0-aa89-1a033791dd14",
   "metadata": {},
   "source": [
    "# Preprocessing"
   ]
  },
  {
   "cell_type": "code",
   "execution_count": 6,
   "id": "114785b2-c576-44bf-83f6-cc05be3519fe",
   "metadata": {},
   "outputs": [
    {
     "data": {
      "text/plain": [
       "customerid           int64\n",
       "surname             object\n",
       "creditscore          int64\n",
       "geography           object\n",
       "gender              object\n",
       "age                float64\n",
       "tenure               int64\n",
       "balance            float64\n",
       "numofproducts        int64\n",
       "hascrcard          float64\n",
       "isactivemember     float64\n",
       "estimatedsalary    float64\n",
       "exited               int64\n",
       "dtype: object"
      ]
     },
     "execution_count": 6,
     "metadata": {},
     "output_type": "execute_result"
    }
   ],
   "source": [
    "train_df = train_df.drop(columns='id')\n",
    "train_df.columns = train_df.columns.str.lower()\n",
    "train_df.dtypes"
   ]
  },
  {
   "cell_type": "code",
   "execution_count": 7,
   "id": "cdd3eaf8-e289-4c59-80df-d979ed007a99",
   "metadata": {},
   "outputs": [],
   "source": [
    "def impute_target(df, col):\n",
    "    df_target = df.groupby(col).agg(\n",
    "        {'exited': 'mean'})\n",
    "    df_target = df_target.rename(columns=\n",
    "                                 {'exited': col + '_target'})\n",
    "    df = pd.merge(df, df_target, \n",
    "                  on=col, how='left', \n",
    "                  validate='m:1')\n",
    "    df = df.drop(columns=col)\n",
    "    \n",
    "    return df"
   ]
  },
  {
   "cell_type": "code",
   "execution_count": 8,
   "id": "fe84c03a-244d-42e0-b24c-920140aacb63",
   "metadata": {},
   "outputs": [
    {
     "data": {
      "text/html": [
       "<div>\n",
       "<style scoped>\n",
       "    .dataframe tbody tr th:only-of-type {\n",
       "        vertical-align: middle;\n",
       "    }\n",
       "\n",
       "    .dataframe tbody tr th {\n",
       "        vertical-align: top;\n",
       "    }\n",
       "\n",
       "    .dataframe thead th {\n",
       "        text-align: right;\n",
       "    }\n",
       "</style>\n",
       "<table border=\"1\" class=\"dataframe\">\n",
       "  <thead>\n",
       "    <tr style=\"text-align: right;\">\n",
       "      <th></th>\n",
       "      <th>creditscore</th>\n",
       "      <th>age</th>\n",
       "      <th>tenure</th>\n",
       "      <th>balance</th>\n",
       "      <th>numofproducts</th>\n",
       "      <th>hascrcard</th>\n",
       "      <th>isactivemember</th>\n",
       "      <th>estimatedsalary</th>\n",
       "      <th>exited</th>\n",
       "      <th>surname_target</th>\n",
       "      <th>geography_target</th>\n",
       "      <th>gender_target</th>\n",
       "      <th>customerid_target</th>\n",
       "    </tr>\n",
       "  </thead>\n",
       "  <tbody>\n",
       "    <tr>\n",
       "      <th>0</th>\n",
       "      <td>668</td>\n",
       "      <td>33.0</td>\n",
       "      <td>3</td>\n",
       "      <td>0.0</td>\n",
       "      <td>2</td>\n",
       "      <td>1.0</td>\n",
       "      <td>0.0</td>\n",
       "      <td>181449.97</td>\n",
       "      <td>0</td>\n",
       "      <td>0.318008</td>\n",
       "      <td>0.165282</td>\n",
       "      <td>0.159055</td>\n",
       "      <td>0.30303</td>\n",
       "    </tr>\n",
       "  </tbody>\n",
       "</table>\n",
       "</div>"
      ],
      "text/plain": [
       "   creditscore   age  tenure  balance  numofproducts  hascrcard  \\\n",
       "0          668  33.0       3      0.0              2        1.0   \n",
       "\n",
       "   isactivemember  estimatedsalary  exited  surname_target  geography_target  \\\n",
       "0             0.0        181449.97       0        0.318008          0.165282   \n",
       "\n",
       "   gender_target  customerid_target  \n",
       "0       0.159055            0.30303  "
      ]
     },
     "execution_count": 8,
     "metadata": {},
     "output_type": "execute_result"
    }
   ],
   "source": [
    "cols = train_df.select_dtypes('object').columns.tolist()\n",
    "cols = cols + ['customerid']\n",
    "for col in cols:\n",
    "    train_df = impute_target(train_df, col)\n",
    "\n",
    "train_df.head(1)"
   ]
  },
  {
   "cell_type": "markdown",
   "id": "b68d5cb3-c588-4200-81f8-2fb98c0dc5c3",
   "metadata": {},
   "source": [
    "# Basline Models"
   ]
  },
  {
   "cell_type": "code",
   "execution_count": 9,
   "id": "559e2927-fa3e-4337-bd37-c2a1add2192d",
   "metadata": {},
   "outputs": [],
   "source": [
    "X_train = train_df.drop(columns='exited')\n",
    "y_train = train_df['exited']"
   ]
  },
  {
   "cell_type": "code",
   "execution_count": 10,
   "id": "8fbf0dda-0764-42a4-a7f6-9b8ecbd053cc",
   "metadata": {},
   "outputs": [],
   "source": [
    "scaler = MinMaxScaler()\n",
    "X_train_scaled = scaler.fit_transform(X_train)"
   ]
  },
  {
   "cell_type": "code",
   "execution_count": 16,
   "id": "3e89dcca-d0b5-47aa-93be-c1f5b32f4a1f",
   "metadata": {},
   "outputs": [
    {
     "name": "stdout",
     "output_type": "stream",
     "text": [
      "The score of fold 1 is: 0.873010912366314.\n",
      "The score of fold 2 is: 0.8745956799428332.\n",
      "The score of fold 3 is: 0.8771877620022361.\n",
      "The score of fold 4 is: 0.8791906600477422.\n",
      "The score of fold 5 is: 0.8786230027583497.\n",
      "The average scores is 0.8765216034234949.\n"
     ]
    }
   ],
   "source": [
    "skf = StratifiedKFold(n_splits=5, \n",
    "                      shuffle=True,\n",
    "                      random_state=42)\n",
    "\n",
    "model = LogisticRegression()\n",
    "scores = cross_val_score(model, X_train_scaled, y_train, cv=skf, scoring='roc_auc')\n",
    "\n",
    "for i, score in enumerate(scores):\n",
    "    print(f'The score of fold {i+1} is: {score}.')\n",
    "\n",
    "print(f'The average scores is {scores.mean()}.')"
   ]
  },
  {
   "cell_type": "code",
   "execution_count": 17,
   "id": "eec81569-9b6f-415b-a31c-2c82fe5bf52d",
   "metadata": {},
   "outputs": [
    {
     "name": "stdout",
     "output_type": "stream",
     "text": [
      "The score of fold 1 is: 0.9259894151921912.\n",
      "The score of fold 2 is: 0.9269409013411741.\n",
      "The score of fold 3 is: 0.92804601788734.\n",
      "The score of fold 4 is: 0.9297142492776472.\n",
      "The score of fold 5 is: 0.9262258252621384.\n",
      "The average scores is 0.9273832817920982.\n",
      "CPU times: user 33 ms, sys: 11 ms, total: 44 ms\n",
      "Wall time: 19.2 s\n"
     ]
    }
   ],
   "source": [
    "%%time\n",
    "skf = StratifiedKFold(n_splits=5, \n",
    "                      shuffle=True,\n",
    "                      random_state=42)\n",
    "\n",
    "model = CatBoostClassifier(verbose=0)\n",
    "scores = cross_val_score(model, X_train_scaled, y_train, cv=skf, scoring='roc_auc', \n",
    "                        n_jobs=-1)\n",
    "\n",
    "for i, score in enumerate(scores):\n",
    "    print(f'The score of fold {i+1} is: {score}.')\n",
    "\n",
    "print(f'The average scores is {scores.mean()}.')"
   ]
  },
  {
   "cell_type": "code",
   "execution_count": 18,
   "id": "494ca06b-9781-4517-80e8-d1941db6d231",
   "metadata": {},
   "outputs": [
    {
     "name": "stdout",
     "output_type": "stream",
     "text": [
      "The score of fold 1 is: 0.9250976749618663.\n",
      "The score of fold 2 is: 0.9261685181436335.\n",
      "The score of fold 3 is: 0.9265160497285003.\n",
      "The score of fold 4 is: 0.9277679967619491.\n",
      "The score of fold 5 is: 0.9243027344559891.\n",
      "The average scores is 0.9259705948103877.\n",
      "CPU times: user 26.4 ms, sys: 8.79 ms, total: 35.2 ms\n",
      "Wall time: 7.92 s\n"
     ]
    }
   ],
   "source": [
    "%%time\n",
    "skf = StratifiedKFold(n_splits=5, \n",
    "                      shuffle=True,\n",
    "                      random_state=42)\n",
    "\n",
    "model = XGBClassifier(verbose=0)\n",
    "scores = cross_val_score(model, X_train_scaled, y_train, cv=skf, scoring='roc_auc', \n",
    "                        n_jobs=-1)\n",
    "\n",
    "for i, score in enumerate(scores):\n",
    "    print(f'The score of fold {i+1} is: {score}.')\n",
    "\n",
    "print(f'The average scores is {scores.mean()}.')"
   ]
  },
  {
   "cell_type": "code",
   "execution_count": 19,
   "id": "b3e39563-cc32-45a3-9f72-8687fcbaf73c",
   "metadata": {},
   "outputs": [
    {
     "name": "stdout",
     "output_type": "stream",
     "text": [
      "The score of fold 1 is: 0.9261224947760769.\n",
      "The score of fold 2 is: 0.9271216687159156.\n",
      "The score of fold 3 is: 0.9280227242144901.\n",
      "The score of fold 4 is: 0.9292433328398353.\n",
      "The score of fold 5 is: 0.9268270683243353.\n",
      "The average scores is 0.9274674577741306.\n",
      "CPU times: user 28.5 ms, sys: 7.79 ms, total: 36.3 ms\n",
      "Wall time: 1.25 s\n"
     ]
    }
   ],
   "source": [
    "%%time\n",
    "skf = StratifiedKFold(n_splits=5, \n",
    "                      shuffle=True,\n",
    "                      random_state=42)\n",
    "\n",
    "model = LGBMClassifier(verbose=0)\n",
    "scores = cross_val_score(model, X_train_scaled, y_train, cv=skf, scoring='roc_auc', \n",
    "                        n_jobs=-1)\n",
    "\n",
    "for i, score in enumerate(scores):\n",
    "    print(f'The score of fold {i+1} is: {score}.')\n",
    "\n",
    "print(f'The average scores is {scores.mean()}.')"
   ]
  },
  {
   "cell_type": "markdown",
   "id": "8b9dde38-ae69-482f-b6e5-c8b7d75db160",
   "metadata": {},
   "source": [
    "# LGBM Hyper Tuning"
   ]
  },
  {
   "cell_type": "code",
   "execution_count": null,
   "id": "c1a019c6-d284-4f81-885c-871202acdb57",
   "metadata": {},
   "outputs": [],
   "source": []
  }
 ],
 "metadata": {
  "kernelspec": {
   "display_name": "Python 3.9 (boost)",
   "language": "python",
   "name": "boost"
  },
  "language_info": {
   "codemirror_mode": {
    "name": "ipython",
    "version": 3
   },
   "file_extension": ".py",
   "mimetype": "text/x-python",
   "name": "python",
   "nbconvert_exporter": "python",
   "pygments_lexer": "ipython3",
   "version": "3.9.15"
  }
 },
 "nbformat": 4,
 "nbformat_minor": 5
}
